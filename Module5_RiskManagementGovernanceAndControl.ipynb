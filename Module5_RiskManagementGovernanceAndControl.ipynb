
################################
Risk Identification 
#################################

Phase 1. Identifying the risk 
---------------------------------------  
  -  Business objectives are set and agreed during planning cycle (long term plans)
  -  Analysis of the operating environement enables identification of the risks that could impact  on the delivery of business plans
     - Ways :
        -  clean sheet reviews
        - regualr management reviews /ad hoc reviews if a change to business environment 
  - Identify risk event , 
  - and conduct a risk assessment whether 
      - furthere analysis is required , 
      - a risk owner is identified and
      - risk is entered into a risk register


Phase 2. identifying the control 
---------------------------------------  
  - Bowtie tool (tool to capture risk information during the risk identification phase )
  - set out the process for establishing the causes and impacts for a risk event and the linkage to controls
      Cause                             -> Risk Event , RIsk Issues ->           Impact 
      Preventative Control   (monitoring)                                 Mitigating Control ( disaster recovery plan)
  - Critical Control => significantly reduces the impact or likelihood of a risk 
  - Control Documentation 
      - developed by control owners of each control 
      - design standard  
          - what needs to be in place or provided for the critical control to be effective 
      - operating standard 
          - the activities or tasks that occur to ensure that the control operates as designed 
      - verification approach 
          - method and strategy to obtain assurance on the contorl health , using various methods as evidence 

Phase 3. including these risks in a risk register 
---------------------------------------  
- Risk Register
  - RM tool to record details for identified risk
      - risk ratings
      - nature of the risk
      - owner
      - manager
      - mitigation measures

################################
Risk Analysis
#################################
- Risk Calculation 
  - Likelihood 
      - Rare (less than once in 15 yrs) 
      - Unlikely ( at least once in 10 yrs)
      - Possible ( at least once in 5 yrs)
      - Likely ( 1-2 times per year)
      - Almost certain ( more than 3 times per year)

  - Impact 
      - consequence of a risk event in financial temrs or in the context of other factors that affect both business and society
      - might affect health, safety and the law,, environment 
      - each risk will have mutiple impacts of different degrees

  - Risk Rating 
      - = Likelihood X Impact 





